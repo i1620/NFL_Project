{
 "cells": [
  {
   "cell_type": "code",
   "execution_count": 38,
   "metadata": {},
   "outputs": [],
   "source": [
    "import pandas as pd\n",
    "import numpy as np"
   ]
  },
  {
   "cell_type": "code",
   "execution_count": 2,
   "metadata": {},
   "outputs": [],
   "source": [
    "pbp2013 = 'resources/pbp-2013.csv'\n",
    "pbp2014 = 'resources/pbp-2014.csv' \n",
    "pbp2015 = 'resources/pbp-2015.csv'\n",
    "pbp2016 = 'resources/pbp-2016.csv'\n",
    "pbp2017 = 'resources/pbp-2017.csv'\n",
    "pbp2018 = 'resources/pbp-2018.csv'\n",
    "pbp2019 = 'resources/pbp-2019.csv'"
   ]
  },
  {
   "cell_type": "code",
   "execution_count": 3,
   "metadata": {},
   "outputs": [
    {
     "name": "stderr",
     "output_type": "stream",
     "text": [
      "C:\\Users\\jamey\\anaconda3\\lib\\site-packages\\IPython\\core\\interactiveshell.py:3063: DtypeWarning: Columns (13,18,19,20,23,25,29,36,38,40) have mixed types.Specify dtype option on import or set low_memory=False.\n",
      "  interactivity=interactivity, compiler=compiler, result=result)\n"
     ]
    }
   ],
   "source": [
    "onedf = pd.read_csv(pbp2013, encoding=\"ISO-8859-1\")\n",
    "twodf = pd.read_csv(pbp2014, encoding=\"ISO-8859-1\")\n",
    "threedf = pd.read_csv(pbp2015, encoding=\"ISO-8859-1\")\n",
    "fourdf = pd.read_csv(pbp2016, encoding=\"ISO-8859-1\")\n",
    "fivedf = pd.read_csv(pbp2017, encoding=\"ISO-8859-1\")\n",
    "sixdf = pd.read_csv(pbp2018, encoding=\"ISO-8859-1\")\n",
    "sevendf = pd.read_csv(pbp2019, encoding=\"ISO-8859-1\")"
   ]
  },
  {
   "cell_type": "code",
   "execution_count": 20,
   "metadata": {},
   "outputs": [],
   "source": [
    "one = onedf.drop(columns= ['GameId','GameDate','Quarter','Minute','Second','DefenseTeam','SeriesFirstDown','NextScore','Description','TeamWin','SeasonYear','Formation','IsRush','IsPass','IsIncomplete','IsTouchdown','PassType','IsSack','IsChallenge','IsChallengeReversed','Challenger','IsMeasurement','IsInterception','IsFumble','IsPenalty','IsTwoPointConversion','IsTwoPointConversionSuccessful','RushDirection','YardLineFixed','YardLineDirection','IsPenaltyAccepted','PenaltyTeam','IsNoPlay','PenaltyType','PenaltyYards'])\n",
    "two = twodf.drop(columns= ['GameId','GameDate','Quarter','Minute','Second','DefenseTeam','SeriesFirstDown','NextScore','Description','TeamWin','SeasonYear','Formation','IsRush','IsPass','IsIncomplete','IsTouchdown','PassType','IsSack','IsChallenge','IsChallengeReversed','Challenger','IsMeasurement','IsInterception','IsFumble','IsPenalty','IsTwoPointConversion','IsTwoPointConversionSuccessful','RushDirection','YardLineFixed','YardLineDirection','IsPenaltyAccepted','PenaltyTeam','IsNoPlay','PenaltyType','PenaltyYards'])\n",
    "three = threedf.drop(columns= ['GameId','GameDate','Quarter','Minute','Second','DefenseTeam','SeriesFirstDown','NextScore','Description','TeamWin','SeasonYear','Formation','IsRush','IsPass','IsIncomplete','IsTouchdown','PassType','IsSack','IsChallenge','IsChallengeReversed','Challenger','IsMeasurement','IsInterception','IsFumble','IsPenalty','IsTwoPointConversion','IsTwoPointConversionSuccessful','RushDirection','YardLineFixed','YardLineDirection','IsPenaltyAccepted','PenaltyTeam','IsNoPlay','PenaltyType','PenaltyYards'])\n",
    "four = fourdf.drop(columns= ['GameId','GameDate','Quarter','Minute','Second','DefenseTeam','SeriesFirstDown','NextScore','Description','TeamWin','SeasonYear','Formation','IsRush','IsPass','IsIncomplete','IsTouchdown','PassType','IsSack','IsChallenge','IsChallengeReversed','Challenger','IsMeasurement','IsInterception','IsFumble','IsPenalty','IsTwoPointConversion','IsTwoPointConversionSuccessful','RushDirection','YardLineFixed','YardLineDirection','IsPenaltyAccepted','PenaltyTeam','IsNoPlay','PenaltyType','PenaltyYards'])\n",
    "five = fivedf.drop(columns= ['GameId','GameDate','Quarter','Minute','Second','DefenseTeam','SeriesFirstDown','NextScore','Description','TeamWin','SeasonYear','Formation','IsRush','IsPass','IsIncomplete','IsTouchdown','PassType','IsSack','IsChallenge','IsChallengeReversed','Challenger','IsMeasurement','IsInterception','IsFumble','IsPenalty','IsTwoPointConversion','IsTwoPointConversionSuccessful','RushDirection','YardLineFixed','YardLineDirection','IsPenaltyAccepted','PenaltyTeam','IsNoPlay','PenaltyType','PenaltyYards'])\n",
    "six = sixdf.drop(columns= ['GameId','GameDate','Quarter','Minute','Second','DefenseTeam','SeriesFirstDown','NextScore','Description','TeamWin','SeasonYear','Formation','IsRush','IsPass','IsIncomplete','IsTouchdown','PassType','IsSack','IsChallenge','IsChallengeReversed','Challenger','IsMeasurement','IsInterception','IsFumble','IsPenalty','IsTwoPointConversion','IsTwoPointConversionSuccessful','RushDirection','YardLineFixed','YardLineDirection','IsPenaltyAccepted','PenaltyTeam','IsNoPlay','PenaltyType','PenaltyYards'])\n",
    "seven = sevendf.drop(columns= ['GameId','GameDate','Quarter','Minute','Second','DefenseTeam','SeriesFirstDown','NextScore','Description','TeamWin','SeasonYear','Formation','IsRush','IsPass','IsIncomplete','IsTouchdown','PassType','IsSack','IsChallenge','IsChallengeReversed','Challenger','IsMeasurement','IsInterception','IsFumble','IsPenalty','IsTwoPointConversion','IsTwoPointConversionSuccessful','RushDirection','YardLineFixed','YardLineDirection','IsPenaltyAccepted','PenaltyTeam','IsNoPlay','PenaltyType','PenaltyYards'])\n"
   ]
  },
  {
   "cell_type": "code",
   "execution_count": 27,
   "metadata": {},
   "outputs": [],
   "source": [
    "one = one.dropna()\n",
    "two = two.dropna()\n",
    "three = three.dropna()\n",
    "four = four.dropna()\n",
    "five = five.dropna()\n",
    "six = six.dropna()\n",
    "seven = seven.dropna()"
   ]
  },
  {
   "cell_type": "code",
   "execution_count": 34,
   "metadata": {},
   "outputs": [],
   "source": [
    "one.reset_index(drop=True, inplace=True)\n",
    "two.reset_index(drop=True, inplace=True)\n",
    "three.reset_index(drop=True, inplace=True)\n",
    "four.reset_index(drop=True, inplace=True)\n",
    "five.reset_index(drop=True, inplace=True)\n",
    "six.reset_index(drop=True, inplace=True)\n",
    "seven.reset_index(drop=True, inplace=True)"
   ]
  },
  {
   "cell_type": "code",
   "execution_count": 41,
   "metadata": {},
   "outputs": [],
   "source": [
    "one['sucess'] = np.where(one['Yards']> one['ToGo'], 'yes' , 'no')\n",
    "two['sucess'] = np.where(two['Yards']> two['ToGo'], 'yes' , 'no')\n",
    "three['sucess'] = np.where(three['Yards']> three['ToGo'], 'yes' , 'no')\n",
    "four['sucess'] = np.where(four['Yards']> four['ToGo'], 'yes' , 'no')\n",
    "five['sucess'] = np.where(five['Yards']> five['ToGo'], 'yes' , 'no')\n",
    "six['sucess'] = np.where(six['Yards']> six['ToGo'], 'yes' , 'no')\n",
    "seven['sucess'] = np.where(seven['Yards']> seven['ToGo'], 'yes' , 'no')"
   ]
  },
  {
   "cell_type": "code",
   "execution_count": 46,
   "metadata": {},
   "outputs": [],
   "source": [
    "frames = [one, two, three, four, five, six, seven]\n",
    "data = pd.concat(frames)\n",
    "data.reset_index(drop=True, inplace=True)"
   ]
  },
  {
   "cell_type": "code",
   "execution_count": 48,
   "metadata": {},
   "outputs": [
    {
     "data": {
      "text/html": [
       "<div>\n",
       "<style scoped>\n",
       "    .dataframe tbody tr th:only-of-type {\n",
       "        vertical-align: middle;\n",
       "    }\n",
       "\n",
       "    .dataframe tbody tr th {\n",
       "        vertical-align: top;\n",
       "    }\n",
       "\n",
       "    .dataframe thead th {\n",
       "        text-align: right;\n",
       "    }\n",
       "</style>\n",
       "<table border=\"1\" class=\"dataframe\">\n",
       "  <thead>\n",
       "    <tr style=\"text-align: right;\">\n",
       "      <th></th>\n",
       "      <th>OffenseTeam</th>\n",
       "      <th>Down</th>\n",
       "      <th>ToGo</th>\n",
       "      <th>YardLine</th>\n",
       "      <th>Yards</th>\n",
       "      <th>PlayType</th>\n",
       "      <th>sucess</th>\n",
       "    </tr>\n",
       "  </thead>\n",
       "  <tbody>\n",
       "    <tr>\n",
       "      <th>0</th>\n",
       "      <td>HOU</td>\n",
       "      <td>0</td>\n",
       "      <td>0</td>\n",
       "      <td>50</td>\n",
       "      <td>0.0</td>\n",
       "      <td>KICK OFF</td>\n",
       "      <td>no</td>\n",
       "    </tr>\n",
       "    <tr>\n",
       "      <th>1</th>\n",
       "      <td>WAS</td>\n",
       "      <td>1</td>\n",
       "      <td>10</td>\n",
       "      <td>20</td>\n",
       "      <td>0.0</td>\n",
       "      <td>QB KNEEL</td>\n",
       "      <td>no</td>\n",
       "    </tr>\n",
       "    <tr>\n",
       "      <th>2</th>\n",
       "      <td>MIN</td>\n",
       "      <td>2</td>\n",
       "      <td>13</td>\n",
       "      <td>17</td>\n",
       "      <td>0.0</td>\n",
       "      <td>PASS</td>\n",
       "      <td>no</td>\n",
       "    </tr>\n",
       "    <tr>\n",
       "      <th>3</th>\n",
       "      <td>CHI</td>\n",
       "      <td>1</td>\n",
       "      <td>10</td>\n",
       "      <td>19</td>\n",
       "      <td>-2.0</td>\n",
       "      <td>SACK</td>\n",
       "      <td>no</td>\n",
       "    </tr>\n",
       "    <tr>\n",
       "      <th>4</th>\n",
       "      <td>HOU</td>\n",
       "      <td>2</td>\n",
       "      <td>10</td>\n",
       "      <td>20</td>\n",
       "      <td>-9.0</td>\n",
       "      <td>SACK</td>\n",
       "      <td>no</td>\n",
       "    </tr>\n",
       "    <tr>\n",
       "      <th>...</th>\n",
       "      <td>...</td>\n",
       "      <td>...</td>\n",
       "      <td>...</td>\n",
       "      <td>...</td>\n",
       "      <td>...</td>\n",
       "      <td>...</td>\n",
       "      <td>...</td>\n",
       "    </tr>\n",
       "    <tr>\n",
       "      <th>295017</th>\n",
       "      <td>HOU</td>\n",
       "      <td>4</td>\n",
       "      <td>1</td>\n",
       "      <td>79</td>\n",
       "      <td>21.0</td>\n",
       "      <td>RUSH</td>\n",
       "      <td>yes</td>\n",
       "    </tr>\n",
       "    <tr>\n",
       "      <th>295018</th>\n",
       "      <td>ARI</td>\n",
       "      <td>4</td>\n",
       "      <td>1</td>\n",
       "      <td>43</td>\n",
       "      <td>0.0</td>\n",
       "      <td>PUNT</td>\n",
       "      <td>no</td>\n",
       "    </tr>\n",
       "    <tr>\n",
       "      <th>295019</th>\n",
       "      <td>BAL</td>\n",
       "      <td>0</td>\n",
       "      <td>0</td>\n",
       "      <td>35</td>\n",
       "      <td>0.0</td>\n",
       "      <td>KICK OFF</td>\n",
       "      <td>no</td>\n",
       "    </tr>\n",
       "    <tr>\n",
       "      <th>295020</th>\n",
       "      <td>GB</td>\n",
       "      <td>0</td>\n",
       "      <td>0</td>\n",
       "      <td>35</td>\n",
       "      <td>0.0</td>\n",
       "      <td>KICK OFF</td>\n",
       "      <td>no</td>\n",
       "    </tr>\n",
       "    <tr>\n",
       "      <th>295021</th>\n",
       "      <td>GB</td>\n",
       "      <td>0</td>\n",
       "      <td>0</td>\n",
       "      <td>35</td>\n",
       "      <td>0.0</td>\n",
       "      <td>KICK OFF</td>\n",
       "      <td>no</td>\n",
       "    </tr>\n",
       "  </tbody>\n",
       "</table>\n",
       "<p>295022 rows × 7 columns</p>\n",
       "</div>"
      ],
      "text/plain": [
       "       OffenseTeam  Down  ToGo  YardLine  Yards  PlayType sucess\n",
       "0              HOU     0     0        50    0.0  KICK OFF     no\n",
       "1              WAS     1    10        20    0.0  QB KNEEL     no\n",
       "2              MIN     2    13        17    0.0      PASS     no\n",
       "3              CHI     1    10        19   -2.0      SACK     no\n",
       "4              HOU     2    10        20   -9.0      SACK     no\n",
       "...            ...   ...   ...       ...    ...       ...    ...\n",
       "295017         HOU     4     1        79   21.0      RUSH    yes\n",
       "295018         ARI     4     1        43    0.0      PUNT     no\n",
       "295019         BAL     0     0        35    0.0  KICK OFF     no\n",
       "295020          GB     0     0        35    0.0  KICK OFF     no\n",
       "295021          GB     0     0        35    0.0  KICK OFF     no\n",
       "\n",
       "[295022 rows x 7 columns]"
      ]
     },
     "execution_count": 48,
     "metadata": {},
     "output_type": "execute_result"
    }
   ],
   "source": [
    "data"
   ]
  },
  {
   "cell_type": "code",
   "execution_count": null,
   "metadata": {},
   "outputs": [],
   "source": []
  }
 ],
 "metadata": {
  "kernelspec": {
   "display_name": "Python 3",
   "language": "python",
   "name": "python3"
  },
  "language_info": {
   "codemirror_mode": {
    "name": "ipython",
    "version": 3
   },
   "file_extension": ".py",
   "mimetype": "text/x-python",
   "name": "python",
   "nbconvert_exporter": "python",
   "pygments_lexer": "ipython3",
   "version": "3.7.6"
  }
 },
 "nbformat": 4,
 "nbformat_minor": 4
}
